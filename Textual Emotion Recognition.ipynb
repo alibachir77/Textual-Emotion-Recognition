{
 "cells": [
  {
   "cell_type": "code",
   "execution_count": 1,
   "metadata": {},
   "outputs": [],
   "source": [
    "import pandas as pd"
   ]
  },
  {
   "cell_type": "markdown",
   "metadata": {},
   "source": [
    "# Reading CSV"
   ]
  },
  {
   "cell_type": "code",
   "execution_count": 2,
   "metadata": {},
   "outputs": [],
   "source": [
    "df = pd.read_csv(r'C:\\Users\\Admin\\Desktop\\FYP-Textual Emotion Recognition\\emotions.csv', encoding='latin1')\n"
   ]
  },
  {
   "cell_type": "markdown",
   "metadata": {},
   "source": [
    "# Viewing Data"
   ]
  },
  {
   "cell_type": "code",
   "execution_count": 3,
   "metadata": {},
   "outputs": [
    {
     "name": "stdout",
     "output_type": "stream",
     "text": [
      "                                                     text  label\n",
      "0           i just feel really helpless and heavy hearted      4\n",
      "1       ive enjoyed being able to slouch about relax a...      0\n",
      "2       i gave up my internship with the dmrg and am f...      4\n",
      "3                              i dont know i feel so lost      0\n",
      "4       i am a kindergarten teacher and i am thoroughl...      4\n",
      "...                                                   ...    ...\n",
      "416804  i feel like telling these horny devils to find...      2\n",
      "416805  i began to realize that when i was feeling agi...      3\n",
      "416806  i feel very curious be why previous early dawn...      5\n",
      "416807  i feel that becuase of the tyranical nature of...      3\n",
      "416808  i think that after i had spent some time inves...      5\n",
      "\n",
      "[416809 rows x 2 columns]\n"
     ]
    }
   ],
   "source": [
    "print (df)"
   ]
  },
  {
   "cell_type": "markdown",
   "metadata": {},
   "source": [
    "# Emotion Count"
   ]
  },
  {
   "cell_type": "markdown",
   "metadata": {},
   "source": [
    "sadness (0), joy (1), love (2), anger (3), fear (4), and surprise (5)"
   ]
  },
  {
   "cell_type": "code",
   "execution_count": 5,
   "metadata": {},
   "outputs": [
    {
     "name": "stdout",
     "output_type": "stream",
     "text": [
      "Number of sadness Messages: 121187\n"
     ]
    }
   ],
   "source": [
    "# Count messages for sadness\n",
    "emotion_count = df[df['label'] == 0].shape[0]\n",
    "print(\"Number of sadness Messages:\", emotion_count)\n"
   ]
  },
  {
   "cell_type": "code",
   "execution_count": 6,
   "metadata": {},
   "outputs": [
    {
     "name": "stdout",
     "output_type": "stream",
     "text": [
      "Number of joy Messages: 141067\n"
     ]
    }
   ],
   "source": [
    "# Count messages for joy\n",
    "emotion_count = df[df['label'] == 1].shape[0]\n",
    "print(\"Number of joy Messages:\", emotion_count)"
   ]
  },
  {
   "cell_type": "code",
   "execution_count": 8,
   "metadata": {},
   "outputs": [
    {
     "name": "stdout",
     "output_type": "stream",
     "text": [
      "Number of love Messages: 34554\n"
     ]
    }
   ],
   "source": [
    "# Count messages for love\n",
    "emotion_count = df[df['label'] == 2].shape[0]\n",
    "print(\"Number of love Messages:\", emotion_count)"
   ]
  },
  {
   "cell_type": "code",
   "execution_count": 9,
   "metadata": {},
   "outputs": [
    {
     "name": "stdout",
     "output_type": "stream",
     "text": [
      "Number of anger Messages: 57317\n"
     ]
    }
   ],
   "source": [
    "# Count messages for fanger\n",
    "emotion_count = df[df['label'] == 3].shape[0]\n",
    "print(\"Number of anger Messages:\", emotion_count)"
   ]
  },
  {
   "cell_type": "code",
   "execution_count": 10,
   "metadata": {},
   "outputs": [
    {
     "name": "stdout",
     "output_type": "stream",
     "text": [
      "Number of fear Messages: 47712\n"
     ]
    }
   ],
   "source": [
    "# Count messages for fear\n",
    "emotion_count = df[df['label'] == 4].shape[0]\n",
    "print(\"Number of fear Messages:\", emotion_count)"
   ]
  },
  {
   "cell_type": "code",
   "execution_count": 11,
   "metadata": {},
   "outputs": [
    {
     "name": "stdout",
     "output_type": "stream",
     "text": [
      "Number of surprise Messages: 14972\n"
     ]
    }
   ],
   "source": [
    "# Count messages for surprise\n",
    "emotion_count = df[df['label'] == 5].shape[0]\n",
    "print(\"Number of surprise Messages:\", emotion_count)"
   ]
  },
  {
   "cell_type": "markdown",
   "metadata": {},
   "source": [
    "# Checks for null Values"
   ]
  },
  {
   "cell_type": "code",
   "execution_count": 12,
   "metadata": {},
   "outputs": [
    {
     "name": "stdout",
     "output_type": "stream",
     "text": [
      "Columns with missing values:\n",
      "Series([], dtype: int64)\n",
      "Total number of missing values: 0\n"
     ]
    }
   ],
   "source": [
    "# Check for missing values\n",
    "missing_values = df.isnull().sum()\n",
    "\n",
    "# Display the columns with missing values\n",
    "print(\"Columns with missing values:\")\n",
    "print(missing_values[missing_values > 0])\n",
    "\n",
    "# Display the total number of missing values\n",
    "total_missing = df.isnull().sum().sum()\n",
    "print(f\"Total number of missing values: {total_missing}\")\n"
   ]
  },
  {
   "cell_type": "markdown",
   "metadata": {},
   "source": [
    "# Imports"
   ]
  },
  {
   "cell_type": "code",
   "execution_count": 13,
   "metadata": {},
   "outputs": [
    {
     "name": "stderr",
     "output_type": "stream",
     "text": [
      "[nltk_data] Downloading package stopwords to\n",
      "[nltk_data]     C:\\Users\\Admin\\AppData\\Roaming\\nltk_data...\n",
      "[nltk_data]   Package stopwords is already up-to-date!\n"
     ]
    },
    {
     "data": {
      "text/plain": [
       "True"
      ]
     },
     "execution_count": 13,
     "metadata": {},
     "output_type": "execute_result"
    }
   ],
   "source": [
    "import nltk\n",
    "from nltk.corpus import stopwords\n",
    "import string\n",
    "# Download NLTK stopwords if not already downloaded\n",
    "nltk.download('stopwords')"
   ]
  }
 ],
 "metadata": {
  "kernelspec": {
   "display_name": "Python 3",
   "language": "python",
   "name": "python3"
  },
  "language_info": {
   "codemirror_mode": {
    "name": "ipython",
    "version": 3
   },
   "file_extension": ".py",
   "mimetype": "text/x-python",
   "name": "python",
   "nbconvert_exporter": "python",
   "pygments_lexer": "ipython3",
   "version": "3.12.0"
  }
 },
 "nbformat": 4,
 "nbformat_minor": 2
}
